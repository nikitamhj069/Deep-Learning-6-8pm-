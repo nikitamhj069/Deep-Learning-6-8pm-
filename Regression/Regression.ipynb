{
 "cells": [
  {
   "cell_type": "markdown",
   "metadata": {},
   "source": [
    "## Create a regression dataset using scikit learn\n"
   ]
  },
  {
   "cell_type": "code",
   "execution_count": 1,
   "metadata": {},
   "outputs": [],
   "source": [
    "from warnings import filterwarnings\n",
    "filterwarnings('ignore')"
   ]
  },
  {
   "cell_type": "code",
   "execution_count": 2,
   "metadata": {},
   "outputs": [],
   "source": [
    "from sklearn.datasets import make_regression\n",
    "X, Y = make_regression(n_samples=3000, n_features=30, \n",
    "                       n_informative=28, noise=10, random_state=42)"
   ]
  },
  {
   "cell_type": "code",
   "execution_count": 3,
   "metadata": {},
   "outputs": [
    {
     "data": {
      "text/plain": [
       "array([[-0.71827942, -0.07007371, -2.8807235 , ...,  0.55875312,\n",
       "        -0.87841759, -0.31143446],\n",
       "       [-0.12946552,  0.4509102 , -0.22386779, ...,  0.47038416,\n",
       "        -2.21539143,  1.3816385 ],\n",
       "       [ 0.24136957,  1.13337657,  0.07615875, ..., -0.92070334,\n",
       "         0.20400935,  0.85537708],\n",
       "       ...,\n",
       "       [ 1.56947425, -0.98543931, -0.68558038, ...,  0.19199239,\n",
       "         0.47005926,  0.50240498],\n",
       "       [ 0.696168  ,  1.64337816, -0.08809124, ...,  0.75109945,\n",
       "        -1.97548777, -2.06508305],\n",
       "       [ 0.17293044,  1.05127132, -0.55991632, ..., -0.04062406,\n",
       "        -0.44272303,  1.14910819]])"
      ]
     },
     "execution_count": 3,
     "metadata": {},
     "output_type": "execute_result"
    }
   ],
   "source": [
    "X"
   ]
  },
  {
   "cell_type": "code",
   "execution_count": 4,
   "metadata": {},
   "outputs": [
    {
     "data": {
      "text/plain": [
       "(3000, 30)"
      ]
     },
     "execution_count": 4,
     "metadata": {},
     "output_type": "execute_result"
    }
   ],
   "source": [
    "X.shape"
   ]
  },
  {
   "cell_type": "code",
   "execution_count": 5,
   "metadata": {},
   "outputs": [
    {
     "data": {
      "text/plain": [
       "array([ -45.03468463, -253.02652499,  496.76697472, ...,  207.02333227,\n",
       "       -828.35114667,  -98.9642237 ])"
      ]
     },
     "execution_count": 5,
     "metadata": {},
     "output_type": "execute_result"
    }
   ],
   "source": [
    "Y"
   ]
  },
  {
   "cell_type": "markdown",
   "metadata": {},
   "source": [
    "### Converting X and Y to a dataframe"
   ]
  },
  {
   "cell_type": "code",
   "execution_count": 6,
   "metadata": {},
   "outputs": [
    {
     "data": {
      "text/plain": [
       "['x1',\n",
       " 'x2',\n",
       " 'x3',\n",
       " 'x4',\n",
       " 'x5',\n",
       " 'x6',\n",
       " 'x7',\n",
       " 'x8',\n",
       " 'x9',\n",
       " 'x10',\n",
       " 'x11',\n",
       " 'x12',\n",
       " 'x13',\n",
       " 'x14',\n",
       " 'x15',\n",
       " 'x16',\n",
       " 'x17',\n",
       " 'x18',\n",
       " 'x19',\n",
       " 'x20',\n",
       " 'x21',\n",
       " 'x22',\n",
       " 'x23',\n",
       " 'x24',\n",
       " 'x25',\n",
       " 'x26',\n",
       " 'x27',\n",
       " 'x28',\n",
       " 'x29',\n",
       " 'x30']"
      ]
     },
     "execution_count": 6,
     "metadata": {},
     "output_type": "execute_result"
    }
   ],
   "source": [
    "cols = [f'x{i+1}' for i in range(30)]\n",
    "cols"
   ]
  },
  {
   "cell_type": "code",
   "execution_count": 7,
   "metadata": {},
   "outputs": [
    {
     "data": {
      "text/html": [
       "<div>\n",
       "<style scoped>\n",
       "    .dataframe tbody tr th:only-of-type {\n",
       "        vertical-align: middle;\n",
       "    }\n",
       "\n",
       "    .dataframe tbody tr th {\n",
       "        vertical-align: top;\n",
       "    }\n",
       "\n",
       "    .dataframe thead th {\n",
       "        text-align: right;\n",
       "    }\n",
       "</style>\n",
       "<table border=\"1\" class=\"dataframe\">\n",
       "  <thead>\n",
       "    <tr style=\"text-align: right;\">\n",
       "      <th></th>\n",
       "      <th>x1</th>\n",
       "      <th>x2</th>\n",
       "      <th>x3</th>\n",
       "      <th>x4</th>\n",
       "      <th>x5</th>\n",
       "      <th>x6</th>\n",
       "      <th>x7</th>\n",
       "      <th>x8</th>\n",
       "      <th>x9</th>\n",
       "      <th>x10</th>\n",
       "      <th>...</th>\n",
       "      <th>x21</th>\n",
       "      <th>x22</th>\n",
       "      <th>x23</th>\n",
       "      <th>x24</th>\n",
       "      <th>x25</th>\n",
       "      <th>x26</th>\n",
       "      <th>x27</th>\n",
       "      <th>x28</th>\n",
       "      <th>x29</th>\n",
       "      <th>x30</th>\n",
       "    </tr>\n",
       "  </thead>\n",
       "  <tbody>\n",
       "    <tr>\n",
       "      <th>0</th>\n",
       "      <td>-0.718279</td>\n",
       "      <td>-0.070074</td>\n",
       "      <td>-2.880723</td>\n",
       "      <td>-0.291797</td>\n",
       "      <td>-1.279408</td>\n",
       "      <td>0.360495</td>\n",
       "      <td>-2.030042</td>\n",
       "      <td>-0.426785</td>\n",
       "      <td>0.442853</td>\n",
       "      <td>0.112514</td>\n",
       "      <td>...</td>\n",
       "      <td>-1.379176</td>\n",
       "      <td>0.545999</td>\n",
       "      <td>-1.238762</td>\n",
       "      <td>0.210254</td>\n",
       "      <td>2.233469</td>\n",
       "      <td>0.501408</td>\n",
       "      <td>0.311878</td>\n",
       "      <td>0.558753</td>\n",
       "      <td>-0.878418</td>\n",
       "      <td>-0.311434</td>\n",
       "    </tr>\n",
       "    <tr>\n",
       "      <th>1</th>\n",
       "      <td>-0.129466</td>\n",
       "      <td>0.450910</td>\n",
       "      <td>-0.223868</td>\n",
       "      <td>-1.127200</td>\n",
       "      <td>-0.765647</td>\n",
       "      <td>-0.194988</td>\n",
       "      <td>-0.887412</td>\n",
       "      <td>0.706774</td>\n",
       "      <td>-0.341742</td>\n",
       "      <td>0.092110</td>\n",
       "      <td>...</td>\n",
       "      <td>0.767348</td>\n",
       "      <td>-1.111131</td>\n",
       "      <td>-1.120872</td>\n",
       "      <td>-0.434288</td>\n",
       "      <td>0.826882</td>\n",
       "      <td>-0.244658</td>\n",
       "      <td>0.296457</td>\n",
       "      <td>0.470384</td>\n",
       "      <td>-2.215391</td>\n",
       "      <td>1.381639</td>\n",
       "    </tr>\n",
       "    <tr>\n",
       "      <th>2</th>\n",
       "      <td>0.241370</td>\n",
       "      <td>1.133377</td>\n",
       "      <td>0.076159</td>\n",
       "      <td>-0.597106</td>\n",
       "      <td>-0.569812</td>\n",
       "      <td>-1.097820</td>\n",
       "      <td>-0.405152</td>\n",
       "      <td>0.360265</td>\n",
       "      <td>0.296881</td>\n",
       "      <td>-0.184067</td>\n",
       "      <td>...</td>\n",
       "      <td>-0.519368</td>\n",
       "      <td>1.398581</td>\n",
       "      <td>1.022523</td>\n",
       "      <td>-0.081239</td>\n",
       "      <td>0.339850</td>\n",
       "      <td>1.128266</td>\n",
       "      <td>1.101489</td>\n",
       "      <td>-0.920703</td>\n",
       "      <td>0.204009</td>\n",
       "      <td>0.855377</td>\n",
       "    </tr>\n",
       "    <tr>\n",
       "      <th>3</th>\n",
       "      <td>-0.066140</td>\n",
       "      <td>1.154356</td>\n",
       "      <td>0.065168</td>\n",
       "      <td>0.251785</td>\n",
       "      <td>-0.178338</td>\n",
       "      <td>-1.304646</td>\n",
       "      <td>-1.776299</td>\n",
       "      <td>-1.545955</td>\n",
       "      <td>-1.463394</td>\n",
       "      <td>-0.137389</td>\n",
       "      <td>...</td>\n",
       "      <td>0.376657</td>\n",
       "      <td>1.021651</td>\n",
       "      <td>1.064456</td>\n",
       "      <td>-1.066433</td>\n",
       "      <td>-1.620960</td>\n",
       "      <td>1.388090</td>\n",
       "      <td>1.764874</td>\n",
       "      <td>-0.946784</td>\n",
       "      <td>-0.095042</td>\n",
       "      <td>1.812141</td>\n",
       "    </tr>\n",
       "    <tr>\n",
       "      <th>4</th>\n",
       "      <td>0.630665</td>\n",
       "      <td>-1.333967</td>\n",
       "      <td>-0.606582</td>\n",
       "      <td>1.170996</td>\n",
       "      <td>1.342460</td>\n",
       "      <td>-1.284969</td>\n",
       "      <td>1.374057</td>\n",
       "      <td>-1.007511</td>\n",
       "      <td>-0.323503</td>\n",
       "      <td>0.265850</td>\n",
       "      <td>...</td>\n",
       "      <td>-0.500754</td>\n",
       "      <td>0.169756</td>\n",
       "      <td>0.967334</td>\n",
       "      <td>0.028729</td>\n",
       "      <td>0.757923</td>\n",
       "      <td>0.563454</td>\n",
       "      <td>0.625839</td>\n",
       "      <td>0.074512</td>\n",
       "      <td>-0.593699</td>\n",
       "      <td>-0.572639</td>\n",
       "    </tr>\n",
       "  </tbody>\n",
       "</table>\n",
       "<p>5 rows × 30 columns</p>\n",
       "</div>"
      ],
      "text/plain": [
       "         x1        x2        x3        x4        x5        x6        x7  \\\n",
       "0 -0.718279 -0.070074 -2.880723 -0.291797 -1.279408  0.360495 -2.030042   \n",
       "1 -0.129466  0.450910 -0.223868 -1.127200 -0.765647 -0.194988 -0.887412   \n",
       "2  0.241370  1.133377  0.076159 -0.597106 -0.569812 -1.097820 -0.405152   \n",
       "3 -0.066140  1.154356  0.065168  0.251785 -0.178338 -1.304646 -1.776299   \n",
       "4  0.630665 -1.333967 -0.606582  1.170996  1.342460 -1.284969  1.374057   \n",
       "\n",
       "         x8        x9       x10  ...       x21       x22       x23       x24  \\\n",
       "0 -0.426785  0.442853  0.112514  ... -1.379176  0.545999 -1.238762  0.210254   \n",
       "1  0.706774 -0.341742  0.092110  ...  0.767348 -1.111131 -1.120872 -0.434288   \n",
       "2  0.360265  0.296881 -0.184067  ... -0.519368  1.398581  1.022523 -0.081239   \n",
       "3 -1.545955 -1.463394 -0.137389  ...  0.376657  1.021651  1.064456 -1.066433   \n",
       "4 -1.007511 -0.323503  0.265850  ... -0.500754  0.169756  0.967334  0.028729   \n",
       "\n",
       "        x25       x26       x27       x28       x29       x30  \n",
       "0  2.233469  0.501408  0.311878  0.558753 -0.878418 -0.311434  \n",
       "1  0.826882 -0.244658  0.296457  0.470384 -2.215391  1.381639  \n",
       "2  0.339850  1.128266  1.101489 -0.920703  0.204009  0.855377  \n",
       "3 -1.620960  1.388090  1.764874 -0.946784 -0.095042  1.812141  \n",
       "4  0.757923  0.563454  0.625839  0.074512 -0.593699 -0.572639  \n",
       "\n",
       "[5 rows x 30 columns]"
      ]
     },
     "execution_count": 7,
     "metadata": {},
     "output_type": "execute_result"
    }
   ],
   "source": [
    "import pandas as pd \n",
    "X = pd.DataFrame(X, columns=cols)\n",
    "X.head()"
   ]
  },
  {
   "cell_type": "code",
   "execution_count": 8,
   "metadata": {},
   "outputs": [
    {
     "data": {
      "text/html": [
       "<div>\n",
       "<style scoped>\n",
       "    .dataframe tbody tr th:only-of-type {\n",
       "        vertical-align: middle;\n",
       "    }\n",
       "\n",
       "    .dataframe tbody tr th {\n",
       "        vertical-align: top;\n",
       "    }\n",
       "\n",
       "    .dataframe thead th {\n",
       "        text-align: right;\n",
       "    }\n",
       "</style>\n",
       "<table border=\"1\" class=\"dataframe\">\n",
       "  <thead>\n",
       "    <tr style=\"text-align: right;\">\n",
       "      <th></th>\n",
       "      <th>y</th>\n",
       "    </tr>\n",
       "  </thead>\n",
       "  <tbody>\n",
       "    <tr>\n",
       "      <th>0</th>\n",
       "      <td>-45.034685</td>\n",
       "    </tr>\n",
       "    <tr>\n",
       "      <th>1</th>\n",
       "      <td>-253.026525</td>\n",
       "    </tr>\n",
       "    <tr>\n",
       "      <th>2</th>\n",
       "      <td>496.766975</td>\n",
       "    </tr>\n",
       "    <tr>\n",
       "      <th>3</th>\n",
       "      <td>-4.601647</td>\n",
       "    </tr>\n",
       "    <tr>\n",
       "      <th>4</th>\n",
       "      <td>236.457790</td>\n",
       "    </tr>\n",
       "  </tbody>\n",
       "</table>\n",
       "</div>"
      ],
      "text/plain": [
       "            y\n",
       "0  -45.034685\n",
       "1 -253.026525\n",
       "2  496.766975\n",
       "3   -4.601647\n",
       "4  236.457790"
      ]
     },
     "execution_count": 8,
     "metadata": {},
     "output_type": "execute_result"
    }
   ],
   "source": [
    "Y = pd.DataFrame(Y, columns=['y'])\n",
    "Y.head()"
   ]
  },
  {
   "cell_type": "markdown",
   "metadata": {},
   "source": [
    "### Create a scikit learn pipeline for X"
   ]
  },
  {
   "cell_type": "code",
   "execution_count": 9,
   "metadata": {},
   "outputs": [],
   "source": [
    "from sklearn.pipeline import Pipeline\n",
    "from sklearn.impute import SimpleImputer\n",
    "from sklearn.preprocessing import StandardScaler"
   ]
  },
  {
   "cell_type": "code",
   "execution_count": 10,
   "metadata": {},
   "outputs": [],
   "source": [
    "num_pipe = Pipeline(steps=[('impute', SimpleImputer(strategy='mean')),\n",
    "                           ('scaler', StandardScaler())]).set_output(transform='pandas')"
   ]
  },
  {
   "cell_type": "code",
   "execution_count": 11,
   "metadata": {},
   "outputs": [
    {
     "data": {
      "text/html": [
       "<div>\n",
       "<style scoped>\n",
       "    .dataframe tbody tr th:only-of-type {\n",
       "        vertical-align: middle;\n",
       "    }\n",
       "\n",
       "    .dataframe tbody tr th {\n",
       "        vertical-align: top;\n",
       "    }\n",
       "\n",
       "    .dataframe thead th {\n",
       "        text-align: right;\n",
       "    }\n",
       "</style>\n",
       "<table border=\"1\" class=\"dataframe\">\n",
       "  <thead>\n",
       "    <tr style=\"text-align: right;\">\n",
       "      <th></th>\n",
       "      <th>x1</th>\n",
       "      <th>x2</th>\n",
       "      <th>x3</th>\n",
       "      <th>x4</th>\n",
       "      <th>x5</th>\n",
       "      <th>x6</th>\n",
       "      <th>x7</th>\n",
       "      <th>x8</th>\n",
       "      <th>x9</th>\n",
       "      <th>x10</th>\n",
       "      <th>...</th>\n",
       "      <th>x21</th>\n",
       "      <th>x22</th>\n",
       "      <th>x23</th>\n",
       "      <th>x24</th>\n",
       "      <th>x25</th>\n",
       "      <th>x26</th>\n",
       "      <th>x27</th>\n",
       "      <th>x28</th>\n",
       "      <th>x29</th>\n",
       "      <th>x30</th>\n",
       "    </tr>\n",
       "  </thead>\n",
       "  <tbody>\n",
       "    <tr>\n",
       "      <th>0</th>\n",
       "      <td>-0.688919</td>\n",
       "      <td>-0.057155</td>\n",
       "      <td>-2.863120</td>\n",
       "      <td>-0.305510</td>\n",
       "      <td>-1.275101</td>\n",
       "      <td>0.352911</td>\n",
       "      <td>-1.974449</td>\n",
       "      <td>-0.412523</td>\n",
       "      <td>0.431024</td>\n",
       "      <td>0.109518</td>\n",
       "      <td>...</td>\n",
       "      <td>-1.402585</td>\n",
       "      <td>0.574088</td>\n",
       "      <td>-1.226719</td>\n",
       "      <td>0.191083</td>\n",
       "      <td>2.186029</td>\n",
       "      <td>0.475576</td>\n",
       "      <td>0.347794</td>\n",
       "      <td>0.578474</td>\n",
       "      <td>-0.918601</td>\n",
       "      <td>-0.325387</td>\n",
       "    </tr>\n",
       "    <tr>\n",
       "      <th>1</th>\n",
       "      <td>-0.105807</td>\n",
       "      <td>0.470406</td>\n",
       "      <td>-0.205413</td>\n",
       "      <td>-1.147154</td>\n",
       "      <td>-0.763248</td>\n",
       "      <td>-0.201377</td>\n",
       "      <td>-0.849465</td>\n",
       "      <td>0.716442</td>\n",
       "      <td>-0.367298</td>\n",
       "      <td>0.090012</td>\n",
       "      <td>...</td>\n",
       "      <td>0.772182</td>\n",
       "      <td>-1.104212</td>\n",
       "      <td>-1.110130</td>\n",
       "      <td>-0.448803</td>\n",
       "      <td>0.802196</td>\n",
       "      <td>-0.276927</td>\n",
       "      <td>0.332451</td>\n",
       "      <td>0.489438</td>\n",
       "      <td>-2.268167</td>\n",
       "      <td>1.395733</td>\n",
       "    </tr>\n",
       "    <tr>\n",
       "      <th>2</th>\n",
       "      <td>0.261436</td>\n",
       "      <td>1.161488</td>\n",
       "      <td>0.094710</td>\n",
       "      <td>-0.613100</td>\n",
       "      <td>-0.568141</td>\n",
       "      <td>-1.102267</td>\n",
       "      <td>-0.374652</td>\n",
       "      <td>0.371337</td>\n",
       "      <td>0.282499</td>\n",
       "      <td>-0.174010</td>\n",
       "      <td>...</td>\n",
       "      <td>-0.531464</td>\n",
       "      <td>1.437562</td>\n",
       "      <td>1.009621</td>\n",
       "      <td>-0.098304</td>\n",
       "      <td>0.323041</td>\n",
       "      <td>1.107841</td>\n",
       "      <td>1.133389</td>\n",
       "      <td>-0.912149</td>\n",
       "      <td>0.174020</td>\n",
       "      <td>0.860754</td>\n",
       "    </tr>\n",
       "    <tr>\n",
       "      <th>3</th>\n",
       "      <td>-0.043094</td>\n",
       "      <td>1.182733</td>\n",
       "      <td>0.083716</td>\n",
       "      <td>0.242134</td>\n",
       "      <td>-0.178121</td>\n",
       "      <td>-1.308648</td>\n",
       "      <td>-1.724625</td>\n",
       "      <td>-1.527157</td>\n",
       "      <td>-1.508573</td>\n",
       "      <td>-0.129386</td>\n",
       "      <td>...</td>\n",
       "      <td>0.376350</td>\n",
       "      <td>1.055817</td>\n",
       "      <td>1.051092</td>\n",
       "      <td>-1.076381</td>\n",
       "      <td>-1.606051</td>\n",
       "      <td>1.369906</td>\n",
       "      <td>1.793399</td>\n",
       "      <td>-0.938426</td>\n",
       "      <td>-0.127848</td>\n",
       "      <td>1.833367</td>\n",
       "    </tr>\n",
       "    <tr>\n",
       "      <th>4</th>\n",
       "      <td>0.646962</td>\n",
       "      <td>-1.337003</td>\n",
       "      <td>-0.588250</td>\n",
       "      <td>1.168212</td>\n",
       "      <td>1.337030</td>\n",
       "      <td>-1.289013</td>\n",
       "      <td>1.377081</td>\n",
       "      <td>-0.990895</td>\n",
       "      <td>-0.348739</td>\n",
       "      <td>0.256105</td>\n",
       "      <td>...</td>\n",
       "      <td>-0.512606</td>\n",
       "      <td>0.193039</td>\n",
       "      <td>0.955041</td>\n",
       "      <td>0.010869</td>\n",
       "      <td>0.734352</td>\n",
       "      <td>0.538156</td>\n",
       "      <td>0.660157</td>\n",
       "      <td>0.090578</td>\n",
       "      <td>-0.631202</td>\n",
       "      <td>-0.590918</td>\n",
       "    </tr>\n",
       "  </tbody>\n",
       "</table>\n",
       "<p>5 rows × 30 columns</p>\n",
       "</div>"
      ],
      "text/plain": [
       "         x1        x2        x3        x4        x5        x6        x7  \\\n",
       "0 -0.688919 -0.057155 -2.863120 -0.305510 -1.275101  0.352911 -1.974449   \n",
       "1 -0.105807  0.470406 -0.205413 -1.147154 -0.763248 -0.201377 -0.849465   \n",
       "2  0.261436  1.161488  0.094710 -0.613100 -0.568141 -1.102267 -0.374652   \n",
       "3 -0.043094  1.182733  0.083716  0.242134 -0.178121 -1.308648 -1.724625   \n",
       "4  0.646962 -1.337003 -0.588250  1.168212  1.337030 -1.289013  1.377081   \n",
       "\n",
       "         x8        x9       x10  ...       x21       x22       x23       x24  \\\n",
       "0 -0.412523  0.431024  0.109518  ... -1.402585  0.574088 -1.226719  0.191083   \n",
       "1  0.716442 -0.367298  0.090012  ...  0.772182 -1.104212 -1.110130 -0.448803   \n",
       "2  0.371337  0.282499 -0.174010  ... -0.531464  1.437562  1.009621 -0.098304   \n",
       "3 -1.527157 -1.508573 -0.129386  ...  0.376350  1.055817  1.051092 -1.076381   \n",
       "4 -0.990895 -0.348739  0.256105  ... -0.512606  0.193039  0.955041  0.010869   \n",
       "\n",
       "        x25       x26       x27       x28       x29       x30  \n",
       "0  2.186029  0.475576  0.347794  0.578474 -0.918601 -0.325387  \n",
       "1  0.802196 -0.276927  0.332451  0.489438 -2.268167  1.395733  \n",
       "2  0.323041  1.107841  1.133389 -0.912149  0.174020  0.860754  \n",
       "3 -1.606051  1.369906  1.793399 -0.938426 -0.127848  1.833367  \n",
       "4  0.734352  0.538156  0.660157  0.090578 -0.631202 -0.590918  \n",
       "\n",
       "[5 rows x 30 columns]"
      ]
     },
     "execution_count": 11,
     "metadata": {},
     "output_type": "execute_result"
    }
   ],
   "source": [
    "X_pre = num_pipe.fit_transform(X)\n",
    "X_pre.head()"
   ]
  },
  {
   "cell_type": "markdown",
   "metadata": {},
   "source": [
    "### Apply train test split"
   ]
  },
  {
   "cell_type": "code",
   "execution_count": 12,
   "metadata": {},
   "outputs": [],
   "source": [
    "from sklearn.model_selection import train_test_split\n",
    "xtrain, xtest, ytrain, ytest = train_test_split(X_pre, Y, test_size=0.2, random_state=21)"
   ]
  },
  {
   "cell_type": "code",
   "execution_count": 13,
   "metadata": {},
   "outputs": [
    {
     "data": {
      "text/html": [
       "<div>\n",
       "<style scoped>\n",
       "    .dataframe tbody tr th:only-of-type {\n",
       "        vertical-align: middle;\n",
       "    }\n",
       "\n",
       "    .dataframe tbody tr th {\n",
       "        vertical-align: top;\n",
       "    }\n",
       "\n",
       "    .dataframe thead th {\n",
       "        text-align: right;\n",
       "    }\n",
       "</style>\n",
       "<table border=\"1\" class=\"dataframe\">\n",
       "  <thead>\n",
       "    <tr style=\"text-align: right;\">\n",
       "      <th></th>\n",
       "      <th>x1</th>\n",
       "      <th>x2</th>\n",
       "      <th>x3</th>\n",
       "      <th>x4</th>\n",
       "      <th>x5</th>\n",
       "      <th>x6</th>\n",
       "      <th>x7</th>\n",
       "      <th>x8</th>\n",
       "      <th>x9</th>\n",
       "      <th>x10</th>\n",
       "      <th>...</th>\n",
       "      <th>x21</th>\n",
       "      <th>x22</th>\n",
       "      <th>x23</th>\n",
       "      <th>x24</th>\n",
       "      <th>x25</th>\n",
       "      <th>x26</th>\n",
       "      <th>x27</th>\n",
       "      <th>x28</th>\n",
       "      <th>x29</th>\n",
       "      <th>x30</th>\n",
       "    </tr>\n",
       "  </thead>\n",
       "  <tbody>\n",
       "    <tr>\n",
       "      <th>1643</th>\n",
       "      <td>0.052039</td>\n",
       "      <td>-0.940475</td>\n",
       "      <td>-0.943021</td>\n",
       "      <td>-0.987331</td>\n",
       "      <td>1.090220</td>\n",
       "      <td>1.585467</td>\n",
       "      <td>-0.678379</td>\n",
       "      <td>-1.139013</td>\n",
       "      <td>-0.171146</td>\n",
       "      <td>-1.170170</td>\n",
       "      <td>...</td>\n",
       "      <td>0.922744</td>\n",
       "      <td>0.526633</td>\n",
       "      <td>0.016138</td>\n",
       "      <td>0.607965</td>\n",
       "      <td>0.333314</td>\n",
       "      <td>-1.520318</td>\n",
       "      <td>0.257526</td>\n",
       "      <td>-0.046280</td>\n",
       "      <td>0.278598</td>\n",
       "      <td>0.122691</td>\n",
       "    </tr>\n",
       "    <tr>\n",
       "      <th>137</th>\n",
       "      <td>1.253791</td>\n",
       "      <td>-0.710742</td>\n",
       "      <td>-1.791321</td>\n",
       "      <td>1.539163</td>\n",
       "      <td>-1.114221</td>\n",
       "      <td>1.012629</td>\n",
       "      <td>0.244713</td>\n",
       "      <td>-1.926104</td>\n",
       "      <td>-0.445870</td>\n",
       "      <td>-0.629977</td>\n",
       "      <td>...</td>\n",
       "      <td>-1.077994</td>\n",
       "      <td>-0.744548</td>\n",
       "      <td>-1.040224</td>\n",
       "      <td>0.435301</td>\n",
       "      <td>-0.454281</td>\n",
       "      <td>1.101016</td>\n",
       "      <td>-0.416873</td>\n",
       "      <td>-0.970135</td>\n",
       "      <td>-0.663722</td>\n",
       "      <td>0.115474</td>\n",
       "    </tr>\n",
       "    <tr>\n",
       "      <th>1205</th>\n",
       "      <td>0.252961</td>\n",
       "      <td>-0.020081</td>\n",
       "      <td>-0.787437</td>\n",
       "      <td>1.481952</td>\n",
       "      <td>-0.891972</td>\n",
       "      <td>0.763080</td>\n",
       "      <td>0.103481</td>\n",
       "      <td>-0.422697</td>\n",
       "      <td>-0.032422</td>\n",
       "      <td>-0.897198</td>\n",
       "      <td>...</td>\n",
       "      <td>-0.213005</td>\n",
       "      <td>-0.275669</td>\n",
       "      <td>0.743194</td>\n",
       "      <td>-0.255197</td>\n",
       "      <td>-0.662567</td>\n",
       "      <td>-0.740384</td>\n",
       "      <td>1.096108</td>\n",
       "      <td>2.044021</td>\n",
       "      <td>-1.143672</td>\n",
       "      <td>0.657581</td>\n",
       "    </tr>\n",
       "    <tr>\n",
       "      <th>523</th>\n",
       "      <td>0.522782</td>\n",
       "      <td>-0.644630</td>\n",
       "      <td>-0.164250</td>\n",
       "      <td>-0.473433</td>\n",
       "      <td>1.297058</td>\n",
       "      <td>1.305110</td>\n",
       "      <td>0.098092</td>\n",
       "      <td>-0.510435</td>\n",
       "      <td>1.836239</td>\n",
       "      <td>0.641412</td>\n",
       "      <td>...</td>\n",
       "      <td>-0.738259</td>\n",
       "      <td>1.205840</td>\n",
       "      <td>1.346459</td>\n",
       "      <td>0.796726</td>\n",
       "      <td>1.464666</td>\n",
       "      <td>1.285444</td>\n",
       "      <td>-0.318203</td>\n",
       "      <td>1.055037</td>\n",
       "      <td>1.077651</td>\n",
       "      <td>-0.034905</td>\n",
       "    </tr>\n",
       "    <tr>\n",
       "      <th>1493</th>\n",
       "      <td>-0.257471</td>\n",
       "      <td>0.131504</td>\n",
       "      <td>-0.411423</td>\n",
       "      <td>0.237039</td>\n",
       "      <td>1.631228</td>\n",
       "      <td>1.070852</td>\n",
       "      <td>-1.716534</td>\n",
       "      <td>-1.038329</td>\n",
       "      <td>0.608915</td>\n",
       "      <td>0.980584</td>\n",
       "      <td>...</td>\n",
       "      <td>-1.106273</td>\n",
       "      <td>-0.672314</td>\n",
       "      <td>-0.409232</td>\n",
       "      <td>-0.574227</td>\n",
       "      <td>-0.049304</td>\n",
       "      <td>-1.098888</td>\n",
       "      <td>0.582422</td>\n",
       "      <td>-1.028832</td>\n",
       "      <td>1.017513</td>\n",
       "      <td>1.018863</td>\n",
       "    </tr>\n",
       "  </tbody>\n",
       "</table>\n",
       "<p>5 rows × 30 columns</p>\n",
       "</div>"
      ],
      "text/plain": [
       "            x1        x2        x3        x4        x5        x6        x7  \\\n",
       "1643  0.052039 -0.940475 -0.943021 -0.987331  1.090220  1.585467 -0.678379   \n",
       "137   1.253791 -0.710742 -1.791321  1.539163 -1.114221  1.012629  0.244713   \n",
       "1205  0.252961 -0.020081 -0.787437  1.481952 -0.891972  0.763080  0.103481   \n",
       "523   0.522782 -0.644630 -0.164250 -0.473433  1.297058  1.305110  0.098092   \n",
       "1493 -0.257471  0.131504 -0.411423  0.237039  1.631228  1.070852 -1.716534   \n",
       "\n",
       "            x8        x9       x10  ...       x21       x22       x23  \\\n",
       "1643 -1.139013 -0.171146 -1.170170  ...  0.922744  0.526633  0.016138   \n",
       "137  -1.926104 -0.445870 -0.629977  ... -1.077994 -0.744548 -1.040224   \n",
       "1205 -0.422697 -0.032422 -0.897198  ... -0.213005 -0.275669  0.743194   \n",
       "523  -0.510435  1.836239  0.641412  ... -0.738259  1.205840  1.346459   \n",
       "1493 -1.038329  0.608915  0.980584  ... -1.106273 -0.672314 -0.409232   \n",
       "\n",
       "           x24       x25       x26       x27       x28       x29       x30  \n",
       "1643  0.607965  0.333314 -1.520318  0.257526 -0.046280  0.278598  0.122691  \n",
       "137   0.435301 -0.454281  1.101016 -0.416873 -0.970135 -0.663722  0.115474  \n",
       "1205 -0.255197 -0.662567 -0.740384  1.096108  2.044021 -1.143672  0.657581  \n",
       "523   0.796726  1.464666  1.285444 -0.318203  1.055037  1.077651 -0.034905  \n",
       "1493 -0.574227 -0.049304 -1.098888  0.582422 -1.028832  1.017513  1.018863  \n",
       "\n",
       "[5 rows x 30 columns]"
      ]
     },
     "execution_count": 13,
     "metadata": {},
     "output_type": "execute_result"
    }
   ],
   "source": [
    "xtrain.head()"
   ]
  },
  {
   "cell_type": "code",
   "execution_count": 14,
   "metadata": {},
   "outputs": [
    {
     "data": {
      "text/html": [
       "<div>\n",
       "<style scoped>\n",
       "    .dataframe tbody tr th:only-of-type {\n",
       "        vertical-align: middle;\n",
       "    }\n",
       "\n",
       "    .dataframe tbody tr th {\n",
       "        vertical-align: top;\n",
       "    }\n",
       "\n",
       "    .dataframe thead th {\n",
       "        text-align: right;\n",
       "    }\n",
       "</style>\n",
       "<table border=\"1\" class=\"dataframe\">\n",
       "  <thead>\n",
       "    <tr style=\"text-align: right;\">\n",
       "      <th></th>\n",
       "      <th>y</th>\n",
       "    </tr>\n",
       "  </thead>\n",
       "  <tbody>\n",
       "    <tr>\n",
       "      <th>1643</th>\n",
       "      <td>112.433915</td>\n",
       "    </tr>\n",
       "    <tr>\n",
       "      <th>137</th>\n",
       "      <td>-1083.527732</td>\n",
       "    </tr>\n",
       "    <tr>\n",
       "      <th>1205</th>\n",
       "      <td>-128.674183</td>\n",
       "    </tr>\n",
       "    <tr>\n",
       "      <th>523</th>\n",
       "      <td>761.187440</td>\n",
       "    </tr>\n",
       "    <tr>\n",
       "      <th>1493</th>\n",
       "      <td>-172.902429</td>\n",
       "    </tr>\n",
       "  </tbody>\n",
       "</table>\n",
       "</div>"
      ],
      "text/plain": [
       "                y\n",
       "1643   112.433915\n",
       "137  -1083.527732\n",
       "1205  -128.674183\n",
       "523    761.187440\n",
       "1493  -172.902429"
      ]
     },
     "execution_count": 14,
     "metadata": {},
     "output_type": "execute_result"
    }
   ],
   "source": [
    "ytrain.head()"
   ]
  },
  {
   "cell_type": "code",
   "execution_count": 15,
   "metadata": {},
   "outputs": [
    {
     "data": {
      "text/html": [
       "<div>\n",
       "<style scoped>\n",
       "    .dataframe tbody tr th:only-of-type {\n",
       "        vertical-align: middle;\n",
       "    }\n",
       "\n",
       "    .dataframe tbody tr th {\n",
       "        vertical-align: top;\n",
       "    }\n",
       "\n",
       "    .dataframe thead th {\n",
       "        text-align: right;\n",
       "    }\n",
       "</style>\n",
       "<table border=\"1\" class=\"dataframe\">\n",
       "  <thead>\n",
       "    <tr style=\"text-align: right;\">\n",
       "      <th></th>\n",
       "      <th>x1</th>\n",
       "      <th>x2</th>\n",
       "      <th>x3</th>\n",
       "      <th>x4</th>\n",
       "      <th>x5</th>\n",
       "      <th>x6</th>\n",
       "      <th>x7</th>\n",
       "      <th>x8</th>\n",
       "      <th>x9</th>\n",
       "      <th>x10</th>\n",
       "      <th>...</th>\n",
       "      <th>x21</th>\n",
       "      <th>x22</th>\n",
       "      <th>x23</th>\n",
       "      <th>x24</th>\n",
       "      <th>x25</th>\n",
       "      <th>x26</th>\n",
       "      <th>x27</th>\n",
       "      <th>x28</th>\n",
       "      <th>x29</th>\n",
       "      <th>x30</th>\n",
       "    </tr>\n",
       "  </thead>\n",
       "  <tbody>\n",
       "    <tr>\n",
       "      <th>465</th>\n",
       "      <td>-0.169150</td>\n",
       "      <td>0.409952</td>\n",
       "      <td>1.307803</td>\n",
       "      <td>0.700982</td>\n",
       "      <td>-0.022220</td>\n",
       "      <td>-0.114715</td>\n",
       "      <td>-0.166075</td>\n",
       "      <td>1.478153</td>\n",
       "      <td>-0.395357</td>\n",
       "      <td>-0.013553</td>\n",
       "      <td>...</td>\n",
       "      <td>-0.833916</td>\n",
       "      <td>1.384411</td>\n",
       "      <td>0.676108</td>\n",
       "      <td>-0.296128</td>\n",
       "      <td>-0.309297</td>\n",
       "      <td>0.556642</td>\n",
       "      <td>0.432878</td>\n",
       "      <td>-0.163328</td>\n",
       "      <td>-1.799377</td>\n",
       "      <td>0.075014</td>\n",
       "    </tr>\n",
       "    <tr>\n",
       "      <th>904</th>\n",
       "      <td>0.637073</td>\n",
       "      <td>-1.927265</td>\n",
       "      <td>1.005873</td>\n",
       "      <td>0.295788</td>\n",
       "      <td>-1.197994</td>\n",
       "      <td>1.168578</td>\n",
       "      <td>-0.009949</td>\n",
       "      <td>-1.740025</td>\n",
       "      <td>-0.893787</td>\n",
       "      <td>-1.032446</td>\n",
       "      <td>...</td>\n",
       "      <td>0.375229</td>\n",
       "      <td>0.321581</td>\n",
       "      <td>1.098016</td>\n",
       "      <td>-2.367612</td>\n",
       "      <td>-2.161798</td>\n",
       "      <td>0.942354</td>\n",
       "      <td>0.164110</td>\n",
       "      <td>-0.625070</td>\n",
       "      <td>1.951268</td>\n",
       "      <td>-0.588490</td>\n",
       "    </tr>\n",
       "    <tr>\n",
       "      <th>2639</th>\n",
       "      <td>1.505908</td>\n",
       "      <td>0.342662</td>\n",
       "      <td>1.049776</td>\n",
       "      <td>0.563217</td>\n",
       "      <td>1.272666</td>\n",
       "      <td>0.319483</td>\n",
       "      <td>-0.145469</td>\n",
       "      <td>0.724367</td>\n",
       "      <td>-0.875059</td>\n",
       "      <td>1.157968</td>\n",
       "      <td>...</td>\n",
       "      <td>-0.361983</td>\n",
       "      <td>-0.488970</td>\n",
       "      <td>1.633057</td>\n",
       "      <td>-0.719981</td>\n",
       "      <td>-0.043802</td>\n",
       "      <td>0.555418</td>\n",
       "      <td>1.668127</td>\n",
       "      <td>1.919041</td>\n",
       "      <td>-0.105455</td>\n",
       "      <td>0.233323</td>\n",
       "    </tr>\n",
       "    <tr>\n",
       "      <th>2125</th>\n",
       "      <td>0.700346</td>\n",
       "      <td>2.323657</td>\n",
       "      <td>-0.405742</td>\n",
       "      <td>-0.849900</td>\n",
       "      <td>0.199404</td>\n",
       "      <td>-0.194465</td>\n",
       "      <td>-0.126883</td>\n",
       "      <td>-0.110462</td>\n",
       "      <td>2.882282</td>\n",
       "      <td>0.295011</td>\n",
       "      <td>...</td>\n",
       "      <td>-0.451245</td>\n",
       "      <td>0.431099</td>\n",
       "      <td>-0.411627</td>\n",
       "      <td>0.764152</td>\n",
       "      <td>1.172289</td>\n",
       "      <td>-0.002425</td>\n",
       "      <td>-0.254325</td>\n",
       "      <td>-2.008459</td>\n",
       "      <td>0.353949</td>\n",
       "      <td>0.749569</td>\n",
       "    </tr>\n",
       "    <tr>\n",
       "      <th>1962</th>\n",
       "      <td>0.222637</td>\n",
       "      <td>0.279963</td>\n",
       "      <td>-1.257113</td>\n",
       "      <td>0.583550</td>\n",
       "      <td>-0.564966</td>\n",
       "      <td>-1.512064</td>\n",
       "      <td>0.678992</td>\n",
       "      <td>-2.255414</td>\n",
       "      <td>1.393263</td>\n",
       "      <td>0.905597</td>\n",
       "      <td>...</td>\n",
       "      <td>-0.992292</td>\n",
       "      <td>-0.802682</td>\n",
       "      <td>0.288486</td>\n",
       "      <td>-0.037195</td>\n",
       "      <td>-0.669431</td>\n",
       "      <td>0.305328</td>\n",
       "      <td>-1.311686</td>\n",
       "      <td>-1.082929</td>\n",
       "      <td>1.749682</td>\n",
       "      <td>-1.388976</td>\n",
       "    </tr>\n",
       "  </tbody>\n",
       "</table>\n",
       "<p>5 rows × 30 columns</p>\n",
       "</div>"
      ],
      "text/plain": [
       "            x1        x2        x3        x4        x5        x6        x7  \\\n",
       "465  -0.169150  0.409952  1.307803  0.700982 -0.022220 -0.114715 -0.166075   \n",
       "904   0.637073 -1.927265  1.005873  0.295788 -1.197994  1.168578 -0.009949   \n",
       "2639  1.505908  0.342662  1.049776  0.563217  1.272666  0.319483 -0.145469   \n",
       "2125  0.700346  2.323657 -0.405742 -0.849900  0.199404 -0.194465 -0.126883   \n",
       "1962  0.222637  0.279963 -1.257113  0.583550 -0.564966 -1.512064  0.678992   \n",
       "\n",
       "            x8        x9       x10  ...       x21       x22       x23  \\\n",
       "465   1.478153 -0.395357 -0.013553  ... -0.833916  1.384411  0.676108   \n",
       "904  -1.740025 -0.893787 -1.032446  ...  0.375229  0.321581  1.098016   \n",
       "2639  0.724367 -0.875059  1.157968  ... -0.361983 -0.488970  1.633057   \n",
       "2125 -0.110462  2.882282  0.295011  ... -0.451245  0.431099 -0.411627   \n",
       "1962 -2.255414  1.393263  0.905597  ... -0.992292 -0.802682  0.288486   \n",
       "\n",
       "           x24       x25       x26       x27       x28       x29       x30  \n",
       "465  -0.296128 -0.309297  0.556642  0.432878 -0.163328 -1.799377  0.075014  \n",
       "904  -2.367612 -2.161798  0.942354  0.164110 -0.625070  1.951268 -0.588490  \n",
       "2639 -0.719981 -0.043802  0.555418  1.668127  1.919041 -0.105455  0.233323  \n",
       "2125  0.764152  1.172289 -0.002425 -0.254325 -2.008459  0.353949  0.749569  \n",
       "1962 -0.037195 -0.669431  0.305328 -1.311686 -1.082929  1.749682 -1.388976  \n",
       "\n",
       "[5 rows x 30 columns]"
      ]
     },
     "execution_count": 15,
     "metadata": {},
     "output_type": "execute_result"
    }
   ],
   "source": [
    "xtest.head()"
   ]
  },
  {
   "cell_type": "code",
   "execution_count": 16,
   "metadata": {},
   "outputs": [
    {
     "data": {
      "text/html": [
       "<div>\n",
       "<style scoped>\n",
       "    .dataframe tbody tr th:only-of-type {\n",
       "        vertical-align: middle;\n",
       "    }\n",
       "\n",
       "    .dataframe tbody tr th {\n",
       "        vertical-align: top;\n",
       "    }\n",
       "\n",
       "    .dataframe thead th {\n",
       "        text-align: right;\n",
       "    }\n",
       "</style>\n",
       "<table border=\"1\" class=\"dataframe\">\n",
       "  <thead>\n",
       "    <tr style=\"text-align: right;\">\n",
       "      <th></th>\n",
       "      <th>y</th>\n",
       "    </tr>\n",
       "  </thead>\n",
       "  <tbody>\n",
       "    <tr>\n",
       "      <th>465</th>\n",
       "      <td>-153.360317</td>\n",
       "    </tr>\n",
       "    <tr>\n",
       "      <th>904</th>\n",
       "      <td>-827.315745</td>\n",
       "    </tr>\n",
       "    <tr>\n",
       "      <th>2639</th>\n",
       "      <td>715.436126</td>\n",
       "    </tr>\n",
       "    <tr>\n",
       "      <th>2125</th>\n",
       "      <td>528.030227</td>\n",
       "    </tr>\n",
       "    <tr>\n",
       "      <th>1962</th>\n",
       "      <td>-44.600383</td>\n",
       "    </tr>\n",
       "  </tbody>\n",
       "</table>\n",
       "</div>"
      ],
      "text/plain": [
       "               y\n",
       "465  -153.360317\n",
       "904  -827.315745\n",
       "2639  715.436126\n",
       "2125  528.030227\n",
       "1962  -44.600383"
      ]
     },
     "execution_count": 16,
     "metadata": {},
     "output_type": "execute_result"
    }
   ],
   "source": [
    "ytest.head()"
   ]
  },
  {
   "cell_type": "markdown",
   "metadata": {},
   "source": [
    "### Build a Neural network"
   ]
  },
  {
   "attachments": {
    "image.png": {
     "image/png": "[encoded data removed]"
    }
   },
   "cell_type": "markdown",
   "metadata": {},
   "source": [
    "![image.png](attachment:image.png)"
   ]
  },
  {
   "cell_type": "code",
   "execution_count": 17,
   "metadata": {},
   "outputs": [
    {
     "data": {
      "text/plain": [
       "(2400, 30)"
      ]
     },
     "execution_count": 17,
     "metadata": {},
     "output_type": "execute_result"
    }
   ],
   "source": [
    "xtrain.shape"
   ]
  },
  {
   "cell_type": "code",
   "execution_count": 18,
   "metadata": {},
   "outputs": [
    {
     "data": {
      "text/plain": [
       "30"
      ]
     },
     "execution_count": 18,
     "metadata": {},
     "output_type": "execute_result"
    }
   ],
   "source": [
    "xtrain.shape[1]"
   ]
  },
  {
   "cell_type": "code",
   "execution_count": 19,
   "metadata": {},
   "outputs": [
    {
     "name": "stdout",
     "output_type": "stream",
     "text": [
      "WARNING:tensorflow:From c:\\Users\\HP\\Documents\\Deep Learning\\Deep Learning 6-8pm Thus-fri\\repository\\venv\\Lib\\site-packages\\keras\\src\\losses.py:2976: The name tf.losses.sparse_softmax_cross_entropy is deprecated. Please use tf.compat.v1.losses.sparse_softmax_cross_entropy instead.\n",
      "\n"
     ]
    }
   ],
   "source": [
    "from keras.models import Sequential \n",
    "from keras.layers import Dense"
   ]
  },
  {
   "cell_type": "code",
   "execution_count": 20,
   "metadata": {},
   "outputs": [
    {
     "name": "stdout",
     "output_type": "stream",
     "text": [
      "WARNING:tensorflow:From c:\\Users\\HP\\Documents\\Deep Learning\\Deep Learning 6-8pm Thus-fri\\repository\\venv\\Lib\\site-packages\\keras\\src\\backend.py:873: The name tf.get_default_graph is deprecated. Please use tf.compat.v1.get_default_graph instead.\n",
      "\n"
     ]
    }
   ],
   "source": [
    "# Initialize the neural network\n",
    "model = Sequential()\n",
    "\n",
    "# Create hidden layer 1\n",
    "model.add(Dense(units=64, activation='relu', input_shape=(xtrain.shape[1],)))\n",
    "# Create 2nd hidden layer with 32\n",
    "model.add(Dense(units=32, activation='relu'))\n",
    "# Create a output layer\n",
    "model.add(Dense(units=1, activation='linear'))"
   ]
  },
  {
   "cell_type": "markdown",
   "metadata": {},
   "source": [
    "### Compiling the model"
   ]
  },
  {
   "cell_type": "code",
   "execution_count": 21,
   "metadata": {},
   "outputs": [
    {
     "name": "stdout",
     "output_type": "stream",
     "text": [
      "WARNING:tensorflow:From c:\\Users\\HP\\Documents\\Deep Learning\\Deep Learning 6-8pm Thus-fri\\repository\\venv\\Lib\\site-packages\\keras\\src\\optimizers\\__init__.py:309: The name tf.train.Optimizer is deprecated. Please use tf.compat.v1.train.Optimizer instead.\n",
      "\n"
     ]
    }
   ],
   "source": [
    "model.compile(optimizer='adam', loss='mse', metrics=['mae'])"
   ]
  },
  {
   "cell_type": "code",
   "execution_count": 22,
   "metadata": {},
   "outputs": [
    {
     "name": "stdout",
     "output_type": "stream",
     "text": [
      "Epoch 1/100\n",
      "WARNING:tensorflow:From c:\\Users\\HP\\Documents\\Deep Learning\\Deep Learning 6-8pm Thus-fri\\repository\\venv\\Lib\\site-packages\\keras\\src\\utils\\tf_utils.py:492: The name tf.ragged.RaggedTensorValue is deprecated. Please use tf.compat.v1.ragged.RaggedTensorValue instead.\n",
      "\n",
      "WARNING:tensorflow:From c:\\Users\\HP\\Documents\\Deep Learning\\Deep Learning 6-8pm Thus-fri\\repository\\venv\\Lib\\site-packages\\keras\\src\\engine\\base_layer_utils.py:384: The name tf.executing_eagerly_outside_functions is deprecated. Please use tf.compat.v1.executing_eagerly_outside_functions instead.\n",
      "\n",
      "60/60 [==============================] - 2s 6ms/step - loss: 112327.7500 - mae: 265.3782 - val_loss: 115116.1484 - val_mae: 271.1393\n",
      "Epoch 2/100\n",
      "60/60 [==============================] - 0s 2ms/step - loss: 109279.6016 - mae: 261.5522 - val_loss: 108980.7109 - val_mae: 263.5742\n",
      "Epoch 3/100\n",
      "60/60 [==============================] - 0s 2ms/step - loss: 97564.2109 - mae: 246.3568 - val_loss: 89941.3047 - val_mae: 238.2485\n",
      "Epoch 4/100\n",
      "60/60 [==============================] - 0s 3ms/step - loss: 71235.4531 - mae: 207.3913 - val_loss: 55754.4219 - val_mae: 184.3103\n",
      "Epoch 5/100\n",
      "60/60 [==============================] - 0s 3ms/step - loss: 36086.6523 - mae: 140.7733 - val_loss: 21478.4922 - val_mae: 108.7956\n",
      "Epoch 6/100\n",
      "60/60 [==============================] - 0s 2ms/step - loss: 11090.0381 - mae: 73.0727 - val_loss: 5303.6904 - val_mae: 50.4745\n",
      "Epoch 7/100\n",
      "60/60 [==============================] - 0s 3ms/step - loss: 2988.9385 - mae: 39.3268 - val_loss: 1961.5546 - val_mae: 32.8116\n",
      "Epoch 8/100\n",
      "60/60 [==============================] - 0s 3ms/step - loss: 1519.1132 - mae: 29.8876 - val_loss: 1171.5129 - val_mae: 25.5430\n",
      "Epoch 9/100\n",
      "60/60 [==============================] - 0s 4ms/step - loss: 978.4213 - mae: 23.9654 - val_loss: 834.3442 - val_mae: 21.7766\n",
      "Epoch 10/100\n",
      "60/60 [==============================] - 0s 3ms/step - loss: 779.9432 - mae: 21.5846 - val_loss: 723.5646 - val_mae: 20.7237\n",
      "Epoch 11/100\n",
      "60/60 [==============================] - 0s 3ms/step - loss: 706.5596 - mae: 20.9014 - val_loss: 677.7410 - val_mae: 20.2034\n",
      "Epoch 12/100\n",
      "60/60 [==============================] - 0s 2ms/step - loss: 664.4072 - mae: 20.2671 - val_loss: 646.9803 - val_mae: 19.9913\n",
      "Epoch 13/100\n",
      "60/60 [==============================] - 0s 3ms/step - loss: 632.5476 - mae: 19.8818 - val_loss: 616.0292 - val_mae: 19.5908\n",
      "Epoch 14/100\n",
      "60/60 [==============================] - 0s 4ms/step - loss: 609.0659 - mae: 19.6108 - val_loss: 591.1312 - val_mae: 19.2759\n",
      "Epoch 15/100\n",
      "60/60 [==============================] - 0s 4ms/step - loss: 579.2155 - mae: 19.0742 - val_loss: 572.4517 - val_mae: 19.0009\n",
      "Epoch 16/100\n",
      "60/60 [==============================] - 0s 3ms/step - loss: 553.1929 - mae: 18.5761 - val_loss: 551.3519 - val_mae: 18.6986\n",
      "Epoch 17/100\n",
      "60/60 [==============================] - 0s 3ms/step - loss: 528.9401 - mae: 18.2582 - val_loss: 526.8655 - val_mae: 18.0631\n",
      "Epoch 18/100\n",
      "60/60 [==============================] - 0s 4ms/step - loss: 511.1620 - mae: 17.8513 - val_loss: 508.5137 - val_mae: 17.6832\n",
      "Epoch 19/100\n",
      "60/60 [==============================] - 0s 2ms/step - loss: 484.4110 - mae: 17.3848 - val_loss: 484.6173 - val_mae: 17.2351\n",
      "Epoch 20/100\n",
      "60/60 [==============================] - 0s 3ms/step - loss: 462.4423 - mae: 16.8682 - val_loss: 467.0959 - val_mae: 17.1064\n",
      "Epoch 21/100\n",
      "60/60 [==============================] - 0s 3ms/step - loss: 439.6223 - mae: 16.4783 - val_loss: 448.8504 - val_mae: 16.8803\n",
      "Epoch 22/100\n",
      "60/60 [==============================] - 0s 4ms/step - loss: 424.8357 - mae: 16.1624 - val_loss: 436.8872 - val_mae: 16.6413\n",
      "Epoch 23/100\n",
      "60/60 [==============================] - 0s 4ms/step - loss: 399.9261 - mae: 15.6688 - val_loss: 423.2172 - val_mae: 16.5120\n",
      "Epoch 24/100\n",
      "60/60 [==============================] - 0s 3ms/step - loss: 382.9837 - mae: 15.3879 - val_loss: 400.5043 - val_mae: 15.9919\n",
      "Epoch 25/100\n",
      "60/60 [==============================] - 0s 4ms/step - loss: 362.7207 - mae: 14.9621 - val_loss: 381.8700 - val_mae: 15.5518\n",
      "Epoch 26/100\n",
      "60/60 [==============================] - 0s 3ms/step - loss: 345.1302 - mae: 14.5427 - val_loss: 361.9035 - val_mae: 15.2154\n",
      "Epoch 27/100\n",
      "60/60 [==============================] - 0s 3ms/step - loss: 326.0516 - mae: 14.1990 - val_loss: 348.8594 - val_mae: 14.8964\n",
      "Epoch 28/100\n",
      "60/60 [==============================] - 0s 6ms/step - loss: 309.3521 - mae: 13.8004 - val_loss: 331.5244 - val_mae: 14.3711\n",
      "Epoch 29/100\n",
      "60/60 [==============================] - 0s 4ms/step - loss: 294.6483 - mae: 13.4418 - val_loss: 320.8649 - val_mae: 14.2964\n",
      "Epoch 30/100\n",
      "60/60 [==============================] - 0s 3ms/step - loss: 280.0101 - mae: 12.9835 - val_loss: 309.2031 - val_mae: 14.1204\n",
      "Epoch 31/100\n",
      "60/60 [==============================] - 0s 2ms/step - loss: 264.7541 - mae: 12.7698 - val_loss: 296.2398 - val_mae: 13.7947\n",
      "Epoch 32/100\n",
      "60/60 [==============================] - 0s 3ms/step - loss: 252.2411 - mae: 12.4297 - val_loss: 284.0547 - val_mae: 13.4939\n",
      "Epoch 33/100\n",
      "60/60 [==============================] - 0s 3ms/step - loss: 237.1688 - mae: 12.0829 - val_loss: 272.6447 - val_mae: 13.2121\n",
      "Epoch 34/100\n",
      "60/60 [==============================] - 0s 4ms/step - loss: 226.1255 - mae: 11.7502 - val_loss: 266.1427 - val_mae: 13.0881\n",
      "Epoch 35/100\n",
      "60/60 [==============================] - 0s 4ms/step - loss: 216.1519 - mae: 11.5291 - val_loss: 250.8526 - val_mae: 12.4991\n",
      "Epoch 36/100\n",
      "60/60 [==============================] - 0s 5ms/step - loss: 203.4846 - mae: 11.1262 - val_loss: 241.9010 - val_mae: 12.4143\n",
      "Epoch 37/100\n",
      "60/60 [==============================] - 0s 4ms/step - loss: 192.3591 - mae: 10.8787 - val_loss: 232.0934 - val_mae: 12.1604\n",
      "Epoch 38/100\n",
      "60/60 [==============================] - 0s 5ms/step - loss: 183.0898 - mae: 10.6356 - val_loss: 221.7779 - val_mae: 11.7993\n",
      "Epoch 39/100\n",
      "60/60 [==============================] - 0s 4ms/step - loss: 173.6739 - mae: 10.3285 - val_loss: 218.4405 - val_mae: 11.7841\n",
      "Epoch 40/100\n",
      "60/60 [==============================] - 0s 5ms/step - loss: 165.2401 - mae: 10.1536 - val_loss: 207.5363 - val_mae: 11.4676\n",
      "Epoch 41/100\n",
      "60/60 [==============================] - 0s 4ms/step - loss: 157.9516 - mae: 9.8797 - val_loss: 203.8512 - val_mae: 11.3267\n",
      "Epoch 42/100\n",
      "60/60 [==============================] - 0s 6ms/step - loss: 149.8384 - mae: 9.6165 - val_loss: 193.6617 - val_mae: 11.0751\n",
      "Epoch 43/100\n",
      "60/60 [==============================] - 0s 3ms/step - loss: 143.5929 - mae: 9.4611 - val_loss: 188.3904 - val_mae: 10.9206\n",
      "Epoch 44/100\n",
      "60/60 [==============================] - 0s 3ms/step - loss: 139.0839 - mae: 9.2871 - val_loss: 182.1642 - val_mae: 10.7016\n",
      "Epoch 45/100\n",
      "60/60 [==============================] - 0s 4ms/step - loss: 131.7329 - mae: 9.0836 - val_loss: 177.9126 - val_mae: 10.5414\n",
      "Epoch 46/100\n",
      "60/60 [==============================] - 0s 4ms/step - loss: 125.8999 - mae: 8.8771 - val_loss: 177.2026 - val_mae: 10.5017\n",
      "Epoch 47/100\n",
      "60/60 [==============================] - 0s 3ms/step - loss: 121.8380 - mae: 8.7521 - val_loss: 169.4645 - val_mae: 10.2713\n",
      "Epoch 48/100\n",
      "60/60 [==============================] - 0s 3ms/step - loss: 117.5640 - mae: 8.5943 - val_loss: 167.5018 - val_mae: 10.2290\n",
      "Epoch 49/100\n",
      "60/60 [==============================] - 0s 6ms/step - loss: 112.3477 - mae: 8.4324 - val_loss: 166.1003 - val_mae: 10.2054\n",
      "Epoch 50/100\n",
      "60/60 [==============================] - 0s 4ms/step - loss: 108.7303 - mae: 8.2605 - val_loss: 163.4110 - val_mae: 10.0778\n",
      "Epoch 51/100\n",
      "60/60 [==============================] - 0s 5ms/step - loss: 105.5097 - mae: 8.1511 - val_loss: 159.2795 - val_mae: 9.9268\n",
      "Epoch 52/100\n",
      "60/60 [==============================] - 0s 4ms/step - loss: 103.6608 - mae: 8.0691 - val_loss: 156.2834 - val_mae: 9.8943\n",
      "Epoch 53/100\n",
      "60/60 [==============================] - 0s 4ms/step - loss: 100.6443 - mae: 7.9716 - val_loss: 156.7667 - val_mae: 9.9004\n",
      "Epoch 54/100\n",
      "60/60 [==============================] - 0s 4ms/step - loss: 97.5129 - mae: 7.8354 - val_loss: 153.7514 - val_mae: 9.7418\n",
      "Epoch 55/100\n",
      "60/60 [==============================] - 0s 4ms/step - loss: 95.0773 - mae: 7.7148 - val_loss: 151.1600 - val_mae: 9.6325\n",
      "Epoch 56/100\n",
      "60/60 [==============================] - 0s 3ms/step - loss: 93.0988 - mae: 7.6548 - val_loss: 153.1781 - val_mae: 9.7087\n",
      "Epoch 57/100\n",
      "60/60 [==============================] - 0s 2ms/step - loss: 91.7948 - mae: 7.5627 - val_loss: 150.8656 - val_mae: 9.7040\n",
      "Epoch 58/100\n",
      "60/60 [==============================] - 0s 3ms/step - loss: 89.0763 - mae: 7.4668 - val_loss: 149.6155 - val_mae: 9.5950\n",
      "Epoch 59/100\n",
      "60/60 [==============================] - 0s 4ms/step - loss: 87.3631 - mae: 7.4008 - val_loss: 147.6026 - val_mae: 9.5238\n",
      "Epoch 60/100\n",
      "60/60 [==============================] - 0s 3ms/step - loss: 85.9436 - mae: 7.3024 - val_loss: 146.7151 - val_mae: 9.4399\n",
      "Epoch 61/100\n",
      "60/60 [==============================] - 0s 4ms/step - loss: 85.1326 - mae: 7.2953 - val_loss: 145.2187 - val_mae: 9.4416\n",
      "Epoch 62/100\n",
      "60/60 [==============================] - 0s 3ms/step - loss: 82.7171 - mae: 7.1966 - val_loss: 147.8417 - val_mae: 9.5303\n",
      "Epoch 63/100\n",
      "60/60 [==============================] - 0s 7ms/step - loss: 82.2035 - mae: 7.1611 - val_loss: 146.8853 - val_mae: 9.4944\n",
      "Epoch 64/100\n",
      "60/60 [==============================] - 0s 5ms/step - loss: 80.2670 - mae: 7.0364 - val_loss: 148.8479 - val_mae: 9.5619\n",
      "Epoch 65/100\n",
      "60/60 [==============================] - 0s 4ms/step - loss: 81.5726 - mae: 7.1022 - val_loss: 147.2083 - val_mae: 9.5027\n",
      "Epoch 66/100\n",
      "60/60 [==============================] - 0s 4ms/step - loss: 79.1878 - mae: 6.9932 - val_loss: 151.4530 - val_mae: 9.6953\n",
      "Epoch 67/100\n",
      "60/60 [==============================] - 0s 3ms/step - loss: 78.7704 - mae: 7.0065 - val_loss: 151.4152 - val_mae: 9.6753\n",
      "Epoch 68/100\n",
      "60/60 [==============================] - 0s 2ms/step - loss: 77.5198 - mae: 6.9208 - val_loss: 148.5301 - val_mae: 9.5479\n",
      "Epoch 69/100\n",
      "60/60 [==============================] - 0s 3ms/step - loss: 75.7973 - mae: 6.8451 - val_loss: 145.4204 - val_mae: 9.4608\n",
      "Epoch 70/100\n",
      "60/60 [==============================] - 0s 4ms/step - loss: 74.6244 - mae: 6.8087 - val_loss: 147.8643 - val_mae: 9.6108\n",
      "Epoch 71/100\n",
      "60/60 [==============================] - 0s 3ms/step - loss: 74.5563 - mae: 6.7975 - val_loss: 147.1021 - val_mae: 9.5224\n",
      "Epoch 72/100\n",
      "60/60 [==============================] - 0s 3ms/step - loss: 73.8759 - mae: 6.7640 - val_loss: 146.0370 - val_mae: 9.4456\n",
      "Epoch 73/100\n",
      "60/60 [==============================] - 0s 3ms/step - loss: 73.1466 - mae: 6.6625 - val_loss: 147.5451 - val_mae: 9.5098\n",
      "Epoch 74/100\n",
      "60/60 [==============================] - 0s 4ms/step - loss: 72.7982 - mae: 6.6806 - val_loss: 149.0809 - val_mae: 9.5469\n",
      "Epoch 75/100\n",
      "60/60 [==============================] - 0s 4ms/step - loss: 72.7296 - mae: 6.6672 - val_loss: 153.6531 - val_mae: 9.7114\n",
      "Epoch 76/100\n",
      "60/60 [==============================] - 0s 6ms/step - loss: 72.5754 - mae: 6.6854 - val_loss: 150.6125 - val_mae: 9.6281\n",
      "Epoch 77/100\n",
      "60/60 [==============================] - 0s 3ms/step - loss: 71.0888 - mae: 6.5686 - val_loss: 149.1651 - val_mae: 9.6164\n",
      "Epoch 78/100\n",
      "60/60 [==============================] - 0s 4ms/step - loss: 69.2894 - mae: 6.5074 - val_loss: 146.9400 - val_mae: 9.4687\n",
      "Epoch 79/100\n",
      "60/60 [==============================] - 0s 3ms/step - loss: 68.9186 - mae: 6.5073 - val_loss: 146.3629 - val_mae: 9.4842\n",
      "Epoch 80/100\n",
      "60/60 [==============================] - 0s 5ms/step - loss: 68.9499 - mae: 6.4929 - val_loss: 147.0899 - val_mae: 9.5064\n",
      "Epoch 81/100\n",
      "60/60 [==============================] - 0s 6ms/step - loss: 68.7954 - mae: 6.4840 - val_loss: 146.9517 - val_mae: 9.5123\n",
      "Epoch 82/100\n",
      "60/60 [==============================] - 0s 6ms/step - loss: 66.4719 - mae: 6.3623 - val_loss: 144.9154 - val_mae: 9.4279\n",
      "Epoch 83/100\n",
      "60/60 [==============================] - 0s 5ms/step - loss: 66.9159 - mae: 6.3710 - val_loss: 154.4056 - val_mae: 9.7159\n",
      "Epoch 84/100\n",
      "60/60 [==============================] - 0s 6ms/step - loss: 65.8988 - mae: 6.2787 - val_loss: 147.8424 - val_mae: 9.5786\n",
      "Epoch 85/100\n",
      "60/60 [==============================] - 0s 3ms/step - loss: 66.4626 - mae: 6.3395 - val_loss: 148.0285 - val_mae: 9.6317\n",
      "Epoch 86/100\n",
      "60/60 [==============================] - 0s 6ms/step - loss: 67.3370 - mae: 6.3901 - val_loss: 148.8013 - val_mae: 9.5952\n",
      "Epoch 87/100\n",
      "60/60 [==============================] - 0s 7ms/step - loss: 63.8811 - mae: 6.1880 - val_loss: 149.4322 - val_mae: 9.6335\n",
      "Epoch 88/100\n",
      "60/60 [==============================] - 0s 5ms/step - loss: 66.4493 - mae: 6.3318 - val_loss: 147.8115 - val_mae: 9.5562\n",
      "Epoch 89/100\n",
      "60/60 [==============================] - 0s 7ms/step - loss: 65.4653 - mae: 6.2491 - val_loss: 146.2956 - val_mae: 9.4428\n",
      "Epoch 90/100\n",
      "60/60 [==============================] - 0s 5ms/step - loss: 62.7869 - mae: 6.1480 - val_loss: 147.4333 - val_mae: 9.5705\n",
      "Epoch 91/100\n",
      "60/60 [==============================] - 0s 3ms/step - loss: 62.7429 - mae: 6.1454 - val_loss: 146.0217 - val_mae: 9.5133\n",
      "Epoch 92/100\n",
      "60/60 [==============================] - 0s 5ms/step - loss: 63.5415 - mae: 6.1451 - val_loss: 147.2515 - val_mae: 9.4363\n",
      "Epoch 93/100\n",
      "60/60 [==============================] - 1s 9ms/step - loss: 61.9850 - mae: 6.0801 - val_loss: 155.7706 - val_mae: 9.7903\n",
      "Epoch 94/100\n",
      "60/60 [==============================] - 1s 9ms/step - loss: 61.3199 - mae: 6.0913 - val_loss: 151.4424 - val_mae: 9.7163\n",
      "Epoch 95/100\n",
      "60/60 [==============================] - 0s 4ms/step - loss: 62.6690 - mae: 6.1062 - val_loss: 145.9800 - val_mae: 9.4947\n",
      "Epoch 96/100\n",
      "60/60 [==============================] - 0s 4ms/step - loss: 60.6721 - mae: 5.9961 - val_loss: 146.1418 - val_mae: 9.4776\n",
      "Epoch 97/100\n",
      "60/60 [==============================] - 0s 3ms/step - loss: 59.4335 - mae: 5.9689 - val_loss: 144.8815 - val_mae: 9.4831\n",
      "Epoch 98/100\n",
      "60/60 [==============================] - 0s 5ms/step - loss: 60.3109 - mae: 5.9812 - val_loss: 144.6500 - val_mae: 9.3906\n",
      "Epoch 99/100\n",
      "60/60 [==============================] - 0s 3ms/step - loss: 59.4354 - mae: 5.9234 - val_loss: 149.5701 - val_mae: 9.5685\n",
      "Epoch 100/100\n",
      "60/60 [==============================] - 0s 4ms/step - loss: 58.9154 - mae: 5.9453 - val_loss: 146.9986 - val_mae: 9.5514\n"
     ]
    }
   ],
   "source": [
    "hist = model.fit(xtrain, ytrain, validation_split=0.2, epochs=100)"
   ]
  },
  {
   "cell_type": "markdown",
   "metadata": {},
   "source": [
    "### Evaluate the model"
   ]
  },
  {
   "cell_type": "code",
   "execution_count": 24,
   "metadata": {},
   "outputs": [
    {
     "name": "stdout",
     "output_type": "stream",
     "text": [
      "75/75 [==============================] - 0s 2ms/step - loss: 73.6664 - mae: 6.4735\n"
     ]
    },
    {
     "data": {
      "text/plain": [
       "[73.66637420654297, 6.473479270935059]"
      ]
     },
     "execution_count": 24,
     "metadata": {},
     "output_type": "execute_result"
    }
   ],
   "source": [
    "model.evaluate(xtrain, ytrain)"
   ]
  },
  {
   "cell_type": "code",
   "execution_count": 25,
   "metadata": {},
   "outputs": [
    {
     "name": "stdout",
     "output_type": "stream",
     "text": [
      "19/19 [==============================] - 0s 2ms/step - loss: 153.8974 - mae: 9.6780\n"
     ]
    },
    {
     "data": {
      "text/plain": [
       "[153.89736938476562, 9.677959442138672]"
      ]
     },
     "execution_count": 25,
     "metadata": {},
     "output_type": "execute_result"
    }
   ],
   "source": [
    "model.evaluate(xtest, ytest)"
   ]
  },
  {
   "cell_type": "markdown",
   "metadata": {},
   "source": [
    "### Predicting values for train and test"
   ]
  },
  {
   "cell_type": "code",
   "execution_count": 26,
   "metadata": {},
   "outputs": [
    {
     "name": "stdout",
     "output_type": "stream",
     "text": [
      "75/75 [==============================] - 0s 2ms/step\n",
      "19/19 [==============================] - 0s 1ms/step\n"
     ]
    }
   ],
   "source": [
    "ypred_tr = model.predict(xtrain)\n",
    "ypred_ts = model.predict(xtest)"
   ]
  },
  {
   "cell_type": "code",
   "execution_count": 27,
   "metadata": {},
   "outputs": [
    {
     "data": {
      "text/plain": [
       "array([[  118.64344 ],\n",
       "       [-1059.0885  ],\n",
       "       [ -121.449615],\n",
       "       [  759.9659  ],\n",
       "       [ -180.44818 ]], dtype=float32)"
      ]
     },
     "execution_count": 27,
     "metadata": {},
     "output_type": "execute_result"
    }
   ],
   "source": [
    "ypred_tr[0:5]"
   ]
  },
  {
   "cell_type": "code",
   "execution_count": 28,
   "metadata": {},
   "outputs": [
    {
     "data": {
      "text/html": [
       "<div>\n",
       "<style scoped>\n",
       "    .dataframe tbody tr th:only-of-type {\n",
       "        vertical-align: middle;\n",
       "    }\n",
       "\n",
       "    .dataframe tbody tr th {\n",
       "        vertical-align: top;\n",
       "    }\n",
       "\n",
       "    .dataframe thead th {\n",
       "        text-align: right;\n",
       "    }\n",
       "</style>\n",
       "<table border=\"1\" class=\"dataframe\">\n",
       "  <thead>\n",
       "    <tr style=\"text-align: right;\">\n",
       "      <th></th>\n",
       "      <th>y</th>\n",
       "    </tr>\n",
       "  </thead>\n",
       "  <tbody>\n",
       "    <tr>\n",
       "      <th>1643</th>\n",
       "      <td>112.433915</td>\n",
       "    </tr>\n",
       "    <tr>\n",
       "      <th>137</th>\n",
       "      <td>-1083.527732</td>\n",
       "    </tr>\n",
       "    <tr>\n",
       "      <th>1205</th>\n",
       "      <td>-128.674183</td>\n",
       "    </tr>\n",
       "    <tr>\n",
       "      <th>523</th>\n",
       "      <td>761.187440</td>\n",
       "    </tr>\n",
       "    <tr>\n",
       "      <th>1493</th>\n",
       "      <td>-172.902429</td>\n",
       "    </tr>\n",
       "  </tbody>\n",
       "</table>\n",
       "</div>"
      ],
      "text/plain": [
       "                y\n",
       "1643   112.433915\n",
       "137  -1083.527732\n",
       "1205  -128.674183\n",
       "523    761.187440\n",
       "1493  -172.902429"
      ]
     },
     "execution_count": 28,
     "metadata": {},
     "output_type": "execute_result"
    }
   ],
   "source": [
    "ytrain.head()"
   ]
  },
  {
   "cell_type": "code",
   "execution_count": 29,
   "metadata": {},
   "outputs": [
    {
     "data": {
      "text/plain": [
       "array([[-142.18452],\n",
       "       [-832.0281 ],\n",
       "       [ 716.14154],\n",
       "       [ 516.0691 ],\n",
       "       [ -49.74437]], dtype=float32)"
      ]
     },
     "execution_count": 29,
     "metadata": {},
     "output_type": "execute_result"
    }
   ],
   "source": [
    "ypred_ts[0:5]"
   ]
  },
  {
   "cell_type": "code",
   "execution_count": 30,
   "metadata": {},
   "outputs": [
    {
     "data": {
      "text/html": [
       "<div>\n",
       "<style scoped>\n",
       "    .dataframe tbody tr th:only-of-type {\n",
       "        vertical-align: middle;\n",
       "    }\n",
       "\n",
       "    .dataframe tbody tr th {\n",
       "        vertical-align: top;\n",
       "    }\n",
       "\n",
       "    .dataframe thead th {\n",
       "        text-align: right;\n",
       "    }\n",
       "</style>\n",
       "<table border=\"1\" class=\"dataframe\">\n",
       "  <thead>\n",
       "    <tr style=\"text-align: right;\">\n",
       "      <th></th>\n",
       "      <th>y</th>\n",
       "    </tr>\n",
       "  </thead>\n",
       "  <tbody>\n",
       "    <tr>\n",
       "      <th>465</th>\n",
       "      <td>-153.360317</td>\n",
       "    </tr>\n",
       "    <tr>\n",
       "      <th>904</th>\n",
       "      <td>-827.315745</td>\n",
       "    </tr>\n",
       "    <tr>\n",
       "      <th>2639</th>\n",
       "      <td>715.436126</td>\n",
       "    </tr>\n",
       "    <tr>\n",
       "      <th>2125</th>\n",
       "      <td>528.030227</td>\n",
       "    </tr>\n",
       "    <tr>\n",
       "      <th>1962</th>\n",
       "      <td>-44.600383</td>\n",
       "    </tr>\n",
       "  </tbody>\n",
       "</table>\n",
       "</div>"
      ],
      "text/plain": [
       "               y\n",
       "465  -153.360317\n",
       "904  -827.315745\n",
       "2639  715.436126\n",
       "2125  528.030227\n",
       "1962  -44.600383"
      ]
     },
     "execution_count": 30,
     "metadata": {},
     "output_type": "execute_result"
    }
   ],
   "source": [
    "ytest.head()"
   ]
  },
  {
   "cell_type": "markdown",
   "metadata": {},
   "source": [
    "### Calculating R2 score in train and test"
   ]
  },
  {
   "cell_type": "code",
   "execution_count": 32,
   "metadata": {},
   "outputs": [],
   "source": [
    "from sklearn.metrics import r2_score"
   ]
  },
  {
   "cell_type": "code",
   "execution_count": 33,
   "metadata": {},
   "outputs": [
    {
     "data": {
      "text/plain": [
       "0.9993509651154475"
      ]
     },
     "execution_count": 33,
     "metadata": {},
     "output_type": "execute_result"
    }
   ],
   "source": [
    "tr_r2 = r2_score(ytrain, ypred_tr)\n",
    "tr_r2"
   ]
  },
  {
   "cell_type": "code",
   "execution_count": 34,
   "metadata": {},
   "outputs": [
    {
     "data": {
      "text/plain": [
       "0.9987060470384352"
      ]
     },
     "execution_count": 34,
     "metadata": {},
     "output_type": "execute_result"
    }
   ],
   "source": [
    "ts_r2 = r2_score(ytest, ypred_ts)\n",
    "ts_r2"
   ]
  },
  {
   "cell_type": "markdown",
   "metadata": {},
   "source": [
    "### Saving the neural network model for given dataset"
   ]
  },
  {
   "cell_type": "code",
   "execution_count": 35,
   "metadata": {},
   "outputs": [
    {
     "name": "stdout",
     "output_type": "stream",
     "text": [
      "Model: \"sequential\"\n",
      "_________________________________________________________________\n",
      " Layer (type)                Output Shape              Param #   \n",
      "=================================================================\n",
      " dense (Dense)               (None, 64)                1984      \n",
      "                                                                 \n",
      " dense_1 (Dense)             (None, 32)                2080      \n",
      "                                                                 \n",
      " dense_2 (Dense)             (None, 1)                 33        \n",
      "                                                                 \n",
      "=================================================================\n",
      "Total params: 4097 (16.00 KB)\n",
      "Trainable params: 4097 (16.00 KB)\n",
      "Non-trainable params: 0 (0.00 Byte)\n",
      "_________________________________________________________________\n"
     ]
    }
   ],
   "source": [
    "model.summary()"
   ]
  },
  {
   "cell_type": "code",
   "execution_count": 36,
   "metadata": {},
   "outputs": [],
   "source": [
    "model.save('Regression.keras')"
   ]
  },
  {
   "cell_type": "markdown",
   "metadata": {},
   "source": [
    "### Loading the model"
   ]
  },
  {
   "cell_type": "code",
   "execution_count": 37,
   "metadata": {},
   "outputs": [
    {
     "name": "stdout",
     "output_type": "stream",
     "text": [
      "Model: \"sequential\"\n",
      "_________________________________________________________________\n",
      " Layer (type)                Output Shape              Param #   \n",
      "=================================================================\n",
      " dense (Dense)               (None, 64)                1984      \n",
      "                                                                 \n",
      " dense_1 (Dense)             (None, 32)                2080      \n",
      "                                                                 \n",
      " dense_2 (Dense)             (None, 1)                 33        \n",
      "                                                                 \n",
      "=================================================================\n",
      "Total params: 4097 (16.00 KB)\n",
      "Trainable params: 4097 (16.00 KB)\n",
      "Non-trainable params: 0 (0.00 Byte)\n",
      "_________________________________________________________________\n"
     ]
    }
   ],
   "source": [
    "from keras.models import load_model\n",
    "nn = load_model('Regression.keras')\n",
    "nn.summary()"
   ]
  }
 ],
 "metadata": {
  "kernelspec": {
   "display_name": "venv",
   "language": "python",
   "name": "python3"
  },
  "language_info": {
   "codemirror_mode": {
    "name": "ipython",
    "version": 3
   },
   "file_extension": ".py",
   "mimetype": "text/x-python",
   "name": "python",
   "nbconvert_exporter": "python",
   "pygments_lexer": "ipython3",
   "version": "3.11.8"
  }
 },
 "nbformat": 4,
 "nbformat_minor": 2
}
